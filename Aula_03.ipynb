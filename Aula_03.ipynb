{
  "nbformat": 4,
  "nbformat_minor": 0,
  "metadata": {
    "colab": {
      "provenance": [],
      "authorship_tag": "ABX9TyOdIox8F5HSuvjevHFz6arL",
      "include_colab_link": true
    },
    "kernelspec": {
      "name": "python3",
      "display_name": "Python 3"
    },
    "language_info": {
      "name": "python"
    }
  },
  "cells": [
    {
      "cell_type": "markdown",
      "metadata": {
        "id": "view-in-github",
        "colab_type": "text"
      },
      "source": [
        "<a href=\"https://colab.research.google.com/github/laurindodumba/Univille-AI-/blob/main/Aula_03.ipynb\" target=\"_parent\"><img src=\"https://colab.research.google.com/assets/colab-badge.svg\" alt=\"Open In Colab\"/></a>"
      ]
    },
    {
      "cell_type": "markdown",
      "source": [
        "![image.png](data:image/png;base64,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)\n",
        "\n",
        "UNIVERSIDADE UNIVILLE\n",
        "\n",
        "CURSO DE GRADUÇÃO\n",
        "\n",
        "DISCIPLINA: FUNDAMENTO DA INTELIGÊNCIA ARTIFICIAL\n",
        "\n",
        "PROF: LAURINDO DUMBA"
      ],
      "metadata": {
        "id": "vNzObD1ANuPK"
      }
    },
    {
      "cell_type": "markdown",
      "source": [
        "# 1. Iterações repetidas - Loops e condicionais"
      ],
      "metadata": {
        "id": "8KGdcTa6PpHH"
      }
    },
    {
      "cell_type": "code",
      "execution_count": 1,
      "metadata": {
        "id": "tEwiPM0lNsF3",
        "colab": {
          "base_uri": "https://localhost:8080/"
        },
        "outputId": "4ec8bba5-59ae-4da5-8638-d3127d1462e3"
      },
      "outputs": [
        {
          "output_type": "stream",
          "name": "stdout",
          "text": [
            "Bem-vindo ao ChatBot da Univille AI ! (Digite x se você desejar sair!)\n",
            "\n",
            "Diga o seu nome e faça sua primeira pegurnta: Laurindo\n",
            "Bot: resposta do bot aqui\n",
            "Usuário: x\n",
            "Muito obrigado por utilizar o Univille AI AI\n"
          ]
        }
      ],
      "source": [
        "print('Bem-vindo ao ChatBot da Univille AI ! (Digite x se você desejar sair!)\\n')\n",
        "pergunta = input('Diga o seu nome e faça sua primeira pegurnta: ')\n",
        "\n",
        "while True:\n",
        "  print(f'Bot: resposta do bot aqui')\n",
        "  pergunta = input('Usuário: ')\n",
        "  if pergunta.lower() == 'x':\n",
        "    break\n",
        "\n",
        "print(f'Muito obrigado por utilizar o Univille AI')"
      ]
    },
    {
      "cell_type": "markdown",
      "source": [
        "# 2. Armazenando interações - Listas, dicionários e funções"
      ],
      "metadata": {
        "id": "yA9-D7fePgE1"
      }
    },
    {
      "cell_type": "code",
      "source": [
        "print('Bem-vindo ao ChatBot da Univille AI ! (Digite x se você quiser sair!)\\n')\n",
        "mensagens = []\n",
        "while True:\n",
        "  pergunta = input('Usuário: ')\n",
        "  if pergunta.lower() == 'x':\n",
        "    break\n",
        "  mensagens.append({'role': 'user', 'content': pergunta})\n",
        "  resposta = 'Resposta do bot'\n",
        "  mensagens.append({'role': 'assistant', 'content': resposta})\n",
        "  print(f'Bot: {resposta}')\n",
        "\n",
        "print('\\nMuito obrigado por utilizar o Univille AI! O histórico completo da conversa foi:')\n",
        "print(mensagens)"
      ],
      "metadata": {
        "id": "me30nzeNPh1g",
        "colab": {
          "base_uri": "https://localhost:8080/"
        },
        "outputId": "80474f04-290d-46ae-8aa4-4a026102ef96"
      },
      "execution_count": 2,
      "outputs": [
        {
          "output_type": "stream",
          "name": "stdout",
          "text": [
            "Bem-vindo ao ChatBot da Univille AI ! (Digite x se você quiser sair!)\n",
            "\n",
            "Usuário: Laurindo\n",
            "Bot: Resposta do bot\n",
            "Usuário: x\n",
            "\n",
            "Muito obrigado por utilizar o Univille AI! O histórico completo da conversa foi:\n",
            "[{'role': 'user', 'content': 'Laurindo'}, {'role': 'assistant', 'content': 'Resposta do bot'}]\n"
          ]
        }
      ]
    },
    {
      "cell_type": "code",
      "source": [],
      "metadata": {
        "id": "mByZNU0r2Dao"
      },
      "execution_count": null,
      "outputs": []
    },
    {
      "cell_type": "markdown",
      "source": [
        "- Acessar o site da Groq e criar uma conta\n",
        "- https://x.ai/grok\n",
        "- Acessar o ambiente para gerar uma API Key\n",
        "- https://console.groq.com/keys\n"
      ],
      "metadata": {
        "id": "4ykLXmcmy-k4"
      }
    },
    {
      "cell_type": "markdown",
      "source": [
        "# 3. Instalação da bibliotecas"
      ],
      "metadata": {
        "id": "8Y1FSf9Ybwem"
      }
    },
    {
      "cell_type": "code",
      "source": [
        "!pip install langchain==0.3.0\n",
        "!pip install langchain-groq==0.2.0"
      ],
      "metadata": {
        "id": "MGeaoXieb1Sc",
        "colab": {
          "base_uri": "https://localhost:8080/"
        },
        "outputId": "1ed75ba9-42e8-4f44-a089-166eed9fd739"
      },
      "execution_count": 3,
      "outputs": [
        {
          "output_type": "stream",
          "name": "stdout",
          "text": [
            "Collecting langchain==0.3.0\n",
            "  Downloading langchain-0.3.0-py3-none-any.whl.metadata (7.1 kB)\n",
            "Requirement already satisfied: PyYAML>=5.3 in /usr/local/lib/python3.11/dist-packages (from langchain==0.3.0) (6.0.2)\n",
            "Requirement already satisfied: SQLAlchemy<3,>=1.4 in /usr/local/lib/python3.11/dist-packages (from langchain==0.3.0) (2.0.39)\n",
            "Requirement already satisfied: aiohttp<4.0.0,>=3.8.3 in /usr/local/lib/python3.11/dist-packages (from langchain==0.3.0) (3.11.13)\n",
            "Requirement already satisfied: langchain-core<0.4.0,>=0.3.0 in /usr/local/lib/python3.11/dist-packages (from langchain==0.3.0) (0.3.44)\n",
            "Requirement already satisfied: langchain-text-splitters<0.4.0,>=0.3.0 in /usr/local/lib/python3.11/dist-packages (from langchain==0.3.0) (0.3.6)\n",
            "Collecting langsmith<0.2.0,>=0.1.17 (from langchain==0.3.0)\n",
            "  Downloading langsmith-0.1.147-py3-none-any.whl.metadata (14 kB)\n",
            "Requirement already satisfied: numpy<2,>=1 in /usr/local/lib/python3.11/dist-packages (from langchain==0.3.0) (1.26.4)\n",
            "Requirement already satisfied: pydantic<3.0.0,>=2.7.4 in /usr/local/lib/python3.11/dist-packages (from langchain==0.3.0) (2.10.6)\n",
            "Requirement already satisfied: requests<3,>=2 in /usr/local/lib/python3.11/dist-packages (from langchain==0.3.0) (2.32.3)\n",
            "Collecting tenacity!=8.4.0,<9.0.0,>=8.1.0 (from langchain==0.3.0)\n",
            "  Downloading tenacity-8.5.0-py3-none-any.whl.metadata (1.2 kB)\n",
            "Requirement already satisfied: aiohappyeyeballs>=2.3.0 in /usr/local/lib/python3.11/dist-packages (from aiohttp<4.0.0,>=3.8.3->langchain==0.3.0) (2.6.1)\n",
            "Requirement already satisfied: aiosignal>=1.1.2 in /usr/local/lib/python3.11/dist-packages (from aiohttp<4.0.0,>=3.8.3->langchain==0.3.0) (1.3.2)\n",
            "Requirement already satisfied: attrs>=17.3.0 in /usr/local/lib/python3.11/dist-packages (from aiohttp<4.0.0,>=3.8.3->langchain==0.3.0) (25.2.0)\n",
            "Requirement already satisfied: frozenlist>=1.1.1 in /usr/local/lib/python3.11/dist-packages (from aiohttp<4.0.0,>=3.8.3->langchain==0.3.0) (1.5.0)\n",
            "Requirement already satisfied: multidict<7.0,>=4.5 in /usr/local/lib/python3.11/dist-packages (from aiohttp<4.0.0,>=3.8.3->langchain==0.3.0) (6.1.0)\n",
            "Requirement already satisfied: propcache>=0.2.0 in /usr/local/lib/python3.11/dist-packages (from aiohttp<4.0.0,>=3.8.3->langchain==0.3.0) (0.3.0)\n",
            "Requirement already satisfied: yarl<2.0,>=1.17.0 in /usr/local/lib/python3.11/dist-packages (from aiohttp<4.0.0,>=3.8.3->langchain==0.3.0) (1.18.3)\n",
            "Requirement already satisfied: jsonpatch<2.0,>=1.33 in /usr/local/lib/python3.11/dist-packages (from langchain-core<0.4.0,>=0.3.0->langchain==0.3.0) (1.33)\n",
            "Requirement already satisfied: packaging<25,>=23.2 in /usr/local/lib/python3.11/dist-packages (from langchain-core<0.4.0,>=0.3.0->langchain==0.3.0) (24.2)\n",
            "Requirement already satisfied: typing-extensions>=4.7 in /usr/local/lib/python3.11/dist-packages (from langchain-core<0.4.0,>=0.3.0->langchain==0.3.0) (4.12.2)\n",
            "Requirement already satisfied: httpx<1,>=0.23.0 in /usr/local/lib/python3.11/dist-packages (from langsmith<0.2.0,>=0.1.17->langchain==0.3.0) (0.28.1)\n",
            "Requirement already satisfied: orjson<4.0.0,>=3.9.14 in /usr/local/lib/python3.11/dist-packages (from langsmith<0.2.0,>=0.1.17->langchain==0.3.0) (3.10.15)\n",
            "Requirement already satisfied: requests-toolbelt<2.0.0,>=1.0.0 in /usr/local/lib/python3.11/dist-packages (from langsmith<0.2.0,>=0.1.17->langchain==0.3.0) (1.0.0)\n",
            "Requirement already satisfied: annotated-types>=0.6.0 in /usr/local/lib/python3.11/dist-packages (from pydantic<3.0.0,>=2.7.4->langchain==0.3.0) (0.7.0)\n",
            "Requirement already satisfied: pydantic-core==2.27.2 in /usr/local/lib/python3.11/dist-packages (from pydantic<3.0.0,>=2.7.4->langchain==0.3.0) (2.27.2)\n",
            "Requirement already satisfied: charset-normalizer<4,>=2 in /usr/local/lib/python3.11/dist-packages (from requests<3,>=2->langchain==0.3.0) (3.4.1)\n",
            "Requirement already satisfied: idna<4,>=2.5 in /usr/local/lib/python3.11/dist-packages (from requests<3,>=2->langchain==0.3.0) (3.10)\n",
            "Requirement already satisfied: urllib3<3,>=1.21.1 in /usr/local/lib/python3.11/dist-packages (from requests<3,>=2->langchain==0.3.0) (2.3.0)\n",
            "Requirement already satisfied: certifi>=2017.4.17 in /usr/local/lib/python3.11/dist-packages (from requests<3,>=2->langchain==0.3.0) (2025.1.31)\n",
            "Requirement already satisfied: greenlet!=0.4.17 in /usr/local/lib/python3.11/dist-packages (from SQLAlchemy<3,>=1.4->langchain==0.3.0) (3.1.1)\n",
            "Requirement already satisfied: anyio in /usr/local/lib/python3.11/dist-packages (from httpx<1,>=0.23.0->langsmith<0.2.0,>=0.1.17->langchain==0.3.0) (3.7.1)\n",
            "Requirement already satisfied: httpcore==1.* in /usr/local/lib/python3.11/dist-packages (from httpx<1,>=0.23.0->langsmith<0.2.0,>=0.1.17->langchain==0.3.0) (1.0.7)\n",
            "Requirement already satisfied: h11<0.15,>=0.13 in /usr/local/lib/python3.11/dist-packages (from httpcore==1.*->httpx<1,>=0.23.0->langsmith<0.2.0,>=0.1.17->langchain==0.3.0) (0.14.0)\n",
            "Requirement already satisfied: jsonpointer>=1.9 in /usr/local/lib/python3.11/dist-packages (from jsonpatch<2.0,>=1.33->langchain-core<0.4.0,>=0.3.0->langchain==0.3.0) (3.0.0)\n",
            "Requirement already satisfied: sniffio>=1.1 in /usr/local/lib/python3.11/dist-packages (from anyio->httpx<1,>=0.23.0->langsmith<0.2.0,>=0.1.17->langchain==0.3.0) (1.3.1)\n",
            "Downloading langchain-0.3.0-py3-none-any.whl (1.0 MB)\n",
            "\u001b[2K   \u001b[90m━━━━━━━━━━━━━━━━━━━━━━━━━━━━━━━━━━━━━━━━\u001b[0m \u001b[32m1.0/1.0 MB\u001b[0m \u001b[31m21.5 MB/s\u001b[0m eta \u001b[36m0:00:00\u001b[0m\n",
            "\u001b[?25hDownloading langsmith-0.1.147-py3-none-any.whl (311 kB)\n",
            "\u001b[2K   \u001b[90m━━━━━━━━━━━━━━━━━━━━━━━━━━━━━━━━━━━━━━━━\u001b[0m \u001b[32m311.8/311.8 kB\u001b[0m \u001b[31m19.4 MB/s\u001b[0m eta \u001b[36m0:00:00\u001b[0m\n",
            "\u001b[?25hDownloading tenacity-8.5.0-py3-none-any.whl (28 kB)\n",
            "Installing collected packages: tenacity, langsmith, langchain\n",
            "  Attempting uninstall: tenacity\n",
            "    Found existing installation: tenacity 9.0.0\n",
            "    Uninstalling tenacity-9.0.0:\n",
            "      Successfully uninstalled tenacity-9.0.0\n",
            "  Attempting uninstall: langsmith\n",
            "    Found existing installation: langsmith 0.3.13\n",
            "    Uninstalling langsmith-0.3.13:\n",
            "      Successfully uninstalled langsmith-0.3.13\n",
            "  Attempting uninstall: langchain\n",
            "    Found existing installation: langchain 0.3.20\n",
            "    Uninstalling langchain-0.3.20:\n",
            "      Successfully uninstalled langchain-0.3.20\n",
            "Successfully installed langchain-0.3.0 langsmith-0.1.147 tenacity-8.5.0\n",
            "Collecting langchain-groq==0.2.0\n",
            "  Downloading langchain_groq-0.2.0-py3-none-any.whl.metadata (2.9 kB)\n",
            "Collecting groq<1,>=0.4.1 (from langchain-groq==0.2.0)\n",
            "  Downloading groq-0.19.0-py3-none-any.whl.metadata (15 kB)\n",
            "Requirement already satisfied: langchain-core<0.4,>=0.3 in /usr/local/lib/python3.11/dist-packages (from langchain-groq==0.2.0) (0.3.44)\n",
            "Requirement already satisfied: anyio<5,>=3.5.0 in /usr/local/lib/python3.11/dist-packages (from groq<1,>=0.4.1->langchain-groq==0.2.0) (3.7.1)\n",
            "Requirement already satisfied: distro<2,>=1.7.0 in /usr/local/lib/python3.11/dist-packages (from groq<1,>=0.4.1->langchain-groq==0.2.0) (1.9.0)\n",
            "Requirement already satisfied: httpx<1,>=0.23.0 in /usr/local/lib/python3.11/dist-packages (from groq<1,>=0.4.1->langchain-groq==0.2.0) (0.28.1)\n",
            "Requirement already satisfied: pydantic<3,>=1.9.0 in /usr/local/lib/python3.11/dist-packages (from groq<1,>=0.4.1->langchain-groq==0.2.0) (2.10.6)\n",
            "Requirement already satisfied: sniffio in /usr/local/lib/python3.11/dist-packages (from groq<1,>=0.4.1->langchain-groq==0.2.0) (1.3.1)\n",
            "Requirement already satisfied: typing-extensions<5,>=4.10 in /usr/local/lib/python3.11/dist-packages (from groq<1,>=0.4.1->langchain-groq==0.2.0) (4.12.2)\n",
            "Requirement already satisfied: langsmith<0.4,>=0.1.125 in /usr/local/lib/python3.11/dist-packages (from langchain-core<0.4,>=0.3->langchain-groq==0.2.0) (0.1.147)\n",
            "Requirement already satisfied: tenacity!=8.4.0,<10.0.0,>=8.1.0 in /usr/local/lib/python3.11/dist-packages (from langchain-core<0.4,>=0.3->langchain-groq==0.2.0) (8.5.0)\n",
            "Requirement already satisfied: jsonpatch<2.0,>=1.33 in /usr/local/lib/python3.11/dist-packages (from langchain-core<0.4,>=0.3->langchain-groq==0.2.0) (1.33)\n",
            "Requirement already satisfied: PyYAML>=5.3 in /usr/local/lib/python3.11/dist-packages (from langchain-core<0.4,>=0.3->langchain-groq==0.2.0) (6.0.2)\n",
            "Requirement already satisfied: packaging<25,>=23.2 in /usr/local/lib/python3.11/dist-packages (from langchain-core<0.4,>=0.3->langchain-groq==0.2.0) (24.2)\n",
            "Requirement already satisfied: idna>=2.8 in /usr/local/lib/python3.11/dist-packages (from anyio<5,>=3.5.0->groq<1,>=0.4.1->langchain-groq==0.2.0) (3.10)\n",
            "Requirement already satisfied: certifi in /usr/local/lib/python3.11/dist-packages (from httpx<1,>=0.23.0->groq<1,>=0.4.1->langchain-groq==0.2.0) (2025.1.31)\n",
            "Requirement already satisfied: httpcore==1.* in /usr/local/lib/python3.11/dist-packages (from httpx<1,>=0.23.0->groq<1,>=0.4.1->langchain-groq==0.2.0) (1.0.7)\n",
            "Requirement already satisfied: h11<0.15,>=0.13 in /usr/local/lib/python3.11/dist-packages (from httpcore==1.*->httpx<1,>=0.23.0->groq<1,>=0.4.1->langchain-groq==0.2.0) (0.14.0)\n",
            "Requirement already satisfied: jsonpointer>=1.9 in /usr/local/lib/python3.11/dist-packages (from jsonpatch<2.0,>=1.33->langchain-core<0.4,>=0.3->langchain-groq==0.2.0) (3.0.0)\n",
            "Requirement already satisfied: orjson<4.0.0,>=3.9.14 in /usr/local/lib/python3.11/dist-packages (from langsmith<0.4,>=0.1.125->langchain-core<0.4,>=0.3->langchain-groq==0.2.0) (3.10.15)\n",
            "Requirement already satisfied: requests<3,>=2 in /usr/local/lib/python3.11/dist-packages (from langsmith<0.4,>=0.1.125->langchain-core<0.4,>=0.3->langchain-groq==0.2.0) (2.32.3)\n",
            "Requirement already satisfied: requests-toolbelt<2.0.0,>=1.0.0 in /usr/local/lib/python3.11/dist-packages (from langsmith<0.4,>=0.1.125->langchain-core<0.4,>=0.3->langchain-groq==0.2.0) (1.0.0)\n",
            "Requirement already satisfied: annotated-types>=0.6.0 in /usr/local/lib/python3.11/dist-packages (from pydantic<3,>=1.9.0->groq<1,>=0.4.1->langchain-groq==0.2.0) (0.7.0)\n",
            "Requirement already satisfied: pydantic-core==2.27.2 in /usr/local/lib/python3.11/dist-packages (from pydantic<3,>=1.9.0->groq<1,>=0.4.1->langchain-groq==0.2.0) (2.27.2)\n",
            "Requirement already satisfied: charset-normalizer<4,>=2 in /usr/local/lib/python3.11/dist-packages (from requests<3,>=2->langsmith<0.4,>=0.1.125->langchain-core<0.4,>=0.3->langchain-groq==0.2.0) (3.4.1)\n",
            "Requirement already satisfied: urllib3<3,>=1.21.1 in /usr/local/lib/python3.11/dist-packages (from requests<3,>=2->langsmith<0.4,>=0.1.125->langchain-core<0.4,>=0.3->langchain-groq==0.2.0) (2.3.0)\n",
            "Downloading langchain_groq-0.2.0-py3-none-any.whl (14 kB)\n",
            "Downloading groq-0.19.0-py3-none-any.whl (122 kB)\n",
            "\u001b[2K   \u001b[90m━━━━━━━━━━━━━━━━━━━━━━━━━━━━━━━━━━━━━━━━\u001b[0m \u001b[32m122.2/122.2 kB\u001b[0m \u001b[31m4.6 MB/s\u001b[0m eta \u001b[36m0:00:00\u001b[0m\n",
            "\u001b[?25hInstalling collected packages: groq, langchain-groq\n",
            "Successfully installed groq-0.19.0 langchain-groq-0.2.0\n"
          ]
        }
      ]
    },
    {
      "cell_type": "markdown",
      "source": [
        "# 4. Integrando o BOT com Groq"
      ],
      "metadata": {
        "id": "qKi_w7FYdEEg"
      }
    },
    {
      "cell_type": "markdown",
      "source": [
        "Uma \"chain\" (ou cadeia) refere-se a uma sequência de operações ou etapas que são encadeadas para processar informações e gerar resultados de forma estruturada. Cada etapa na chain pode envolver diferentes componentes, como prompts, modelos de linguagem, ferramentas de processamento de dados ou chamadas a APIs, permitindo que construamos fluxos de trabalho complexos e personalizados."
      ],
      "metadata": {
        "id": "TA-jkA4GG71P"
      }
    },
    {
      "cell_type": "code",
      "source": [
        "import os\n",
        "from langchain_groq import ChatGroq\n",
        "\n",
        "# Atenção: Está é a chave (api_key) do professor e ela será descontínuada após a aula.\n",
        "# Cada aluno deve considerar em criar uma conta e uma chave. Na aula vou demonstrar quais passo seguir para criar a conta e a chave.\n",
        "\n",
        "api_key = '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'\n",
        "os.environ['GROQ_API_KEY'] = api_key\n",
        "\n",
        "chat = ChatGroq(model='llama-3.3-70b-versatile')"
      ],
      "metadata": {
        "id": "vB-_a0EbdDWJ"
      },
      "execution_count": 4,
      "outputs": []
    },
    {
      "cell_type": "markdown",
      "source": [
        "# 5. Criar um contexto"
      ],
      "metadata": {
        "id": "cDVmUvX0d3Cf"
      }
    },
    {
      "cell_type": "code",
      "source": [
        "from langchain.prompts import ChatPromptTemplate\n",
        "\n",
        "template = ChatPromptTemplate.from_messages(\n",
        "    [('user', 'Traduza {expressao} para a lingua {lingua}')]\n",
        ")"
      ],
      "metadata": {
        "id": "o7FpSoaKdNKw"
      },
      "execution_count": 8,
      "outputs": []
    },
    {
      "cell_type": "markdown",
      "source": [
        "# 6. Pedir para criar uma orientação passo à passo"
      ],
      "metadata": {
        "id": "ieKmVnI2d-yM"
      }
    },
    {
      "cell_type": "code",
      "source": [
        "chain = template | chat"
      ],
      "metadata": {
        "id": "QEeLtKLJHn__",
        "colab": {
          "base_uri": "https://localhost:8080/",
          "height": 141
        },
        "outputId": "2d60d538-ec65-4d59-e13b-6d58f63a7192"
      },
      "execution_count": 5,
      "outputs": [
        {
          "output_type": "error",
          "ename": "NameError",
          "evalue": "name 'template' is not defined",
          "traceback": [
            "\u001b[0;31m---------------------------------------------------------------------------\u001b[0m",
            "\u001b[0;31mNameError\u001b[0m                                 Traceback (most recent call last)",
            "\u001b[0;32m<ipython-input-5-74899326f3ec>\u001b[0m in \u001b[0;36m<cell line: 0>\u001b[0;34m()\u001b[0m\n\u001b[0;32m----> 1\u001b[0;31m \u001b[0mchain\u001b[0m \u001b[0;34m=\u001b[0m \u001b[0mtemplate\u001b[0m \u001b[0;34m|\u001b[0m \u001b[0mchat\u001b[0m\u001b[0;34m\u001b[0m\u001b[0;34m\u001b[0m\u001b[0m\n\u001b[0m",
            "\u001b[0;31mNameError\u001b[0m: name 'template' is not defined"
          ]
        }
      ]
    },
    {
      "cell_type": "code",
      "source": [
        "resposta = chain.invoke({'expressao': 'Beleza?', 'lingua': 'inglesa'})"
      ],
      "metadata": {
        "id": "cCLhccIWdTYQ",
        "colab": {
          "base_uri": "https://localhost:8080/",
          "height": 141
        },
        "outputId": "dfb4af59-6525-4dc6-9cdf-429fc15a46cf"
      },
      "execution_count": 6,
      "outputs": [
        {
          "output_type": "error",
          "ename": "NameError",
          "evalue": "name 'chain' is not defined",
          "traceback": [
            "\u001b[0;31m---------------------------------------------------------------------------\u001b[0m",
            "\u001b[0;31mNameError\u001b[0m                                 Traceback (most recent call last)",
            "\u001b[0;32m<ipython-input-6-93191fc68b08>\u001b[0m in \u001b[0;36m<cell line: 0>\u001b[0;34m()\u001b[0m\n\u001b[0;32m----> 1\u001b[0;31m \u001b[0mresposta\u001b[0m \u001b[0;34m=\u001b[0m \u001b[0mchain\u001b[0m\u001b[0;34m.\u001b[0m\u001b[0minvoke\u001b[0m\u001b[0;34m(\u001b[0m\u001b[0;34m{\u001b[0m\u001b[0;34m'expressao'\u001b[0m\u001b[0;34m:\u001b[0m \u001b[0;34m'Beleza?'\u001b[0m\u001b[0;34m,\u001b[0m \u001b[0;34m'lingua'\u001b[0m\u001b[0;34m:\u001b[0m \u001b[0;34m'inglesa'\u001b[0m\u001b[0;34m}\u001b[0m\u001b[0;34m)\u001b[0m\u001b[0;34m\u001b[0m\u001b[0;34m\u001b[0m\u001b[0m\n\u001b[0m",
            "\u001b[0;31mNameError\u001b[0m: name 'chain' is not defined"
          ]
        }
      ]
    },
    {
      "cell_type": "code",
      "source": [
        "from langchain.prompts import ChatPromptTemplate\n",
        "\n",
        "template = ChatPromptTemplate.from_messages(\n",
        "    [('system', 'Você é um assistente que sempre responde com piadas'),\n",
        "     ('user', 'Traduza {expressao} para a lingua {lingua}')]\n",
        ")\n",
        "chain = template | chat\n",
        "resposta = chain.invoke({'expressao': 'Beleza?', 'lingua': 'inglesa'})\n",
        "print(resposta.content)"
      ],
      "metadata": {
        "id": "6WG09GCmdUf2"
      },
      "execution_count": null,
      "outputs": []
    },
    {
      "cell_type": "markdown",
      "source": [
        "# [EXERCÍCIOS]\n",
        "\n",
        "\n",
        "* `Criei e personalize novos contextos para interagir com o Bot`"
      ],
      "metadata": {
        "id": "OXuWTJiQKczI"
      }
    },
    {
      "cell_type": "code",
      "source": [],
      "metadata": {
        "id": "ICV7PporOxF6"
      },
      "execution_count": null,
      "outputs": []
    },
    {
      "cell_type": "markdown",
      "source": [
        "# CHAT BO FINAL - UNIBOT\n",
        "\n",
        "* `Turma, criamos o nosso primeiro  ChatBot conversacional, ainda temos muito do que explorar e existem inumeras possibilidade para personalizar o ChatBot de acordo com as nossas necessidades.\n",
        "Ousem experimentar outras possibilidade em contextos diferentes e testam o máximo que for possivel para entendermos o nível de aprendizado que podemos abstrair deste primeiro laboratório.`"
      ],
      "metadata": {
        "id": "kzxDhV4jdmJq"
      }
    },
    {
      "cell_type": "code",
      "source": [
        "import os\n",
        "from langchain_groq import ChatGroq\n",
        "from langchain.prompts import ChatPromptTemplate\n",
        "\n",
        "\n",
        "# Atenção Turma: Está é a chave (api_key) do professor e ela será descontínuada após a aula.\n",
        "# Cada aluno deve considerar em criar uma conta e uma chave. Na aula vou demonstrar quais passo seguir para criar a conta e a chave.\n",
        "\n",
        "api_key = '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'\n",
        "os.environ['GROQ_API_KEY'] = api_key\n",
        "\n",
        "chat = ChatGroq(model='llama-3.3-70b-versatile')\n",
        "\n",
        "def resposta_bot(mensagens):\n",
        "  mensagens_modelo = [('system', 'Você é um treinador de futebol da Univille AI ')]\n",
        "  mensagens_modelo += mensagens\n",
        "  template = ChatPromptTemplate.from_messages(mensagens_modelo)\n",
        "  chain = template | chat\n",
        "  return chain.invoke({}).content\n",
        "\n",
        "print('Bem-vindo ao Univille AI')\n",
        "\n",
        "mensagens = []\n",
        "while True:\n",
        "  pergunta = input('Usuario: ')\n",
        "  if pergunta.lower() == 'x':\n",
        "    break\n",
        "  mensagens.append(('user', pergunta))\n",
        "  resposta = resposta_bot(mensagens)\n",
        "  mensagens.append(('assistant', resposta))\n",
        "  print(f'Bot: {resposta}')\n",
        "\n",
        "print('Muito obrigado por usar o Univille AI')\n",
        "print(mensagens)"
      ],
      "metadata": {
        "id": "BNTtV_lfb2iQ",
        "colab": {
          "base_uri": "https://localhost:8080/"
        },
        "outputId": "19493cc9-1ba5-42cd-9651-cae682e4c5b1"
      },
      "execution_count": null,
      "outputs": [
        {
          "output_type": "stream",
          "name": "stdout",
          "text": [
            "Bem-vindo ao Univille AI\n",
            "Usuario: Olá quem é você ?\n",
            "Bot: Olá! Eu sou o treinador de futebol da Univille AI, um time de futebol virtual criado para simular partidas e treinamentos de futebol. Meu objetivo é ajudar a melhorar as habilidades dos jogadores e desenvolver estratégias de jogo eficazes.\n",
            "\n",
            "Eu tenho acesso a uma base de dados vasta sobre futebol, incluindo táticas, estratégias, estatísticas e muito mais. Isso me permite fornecer conselhos e recomendações personalizadas para os jogadores e treinadores que buscam melhorar seu desempenho no campo.\n",
            "\n",
            "Além disso, eu posso simular partidas e treinamentos, permitindo que os jogadores pratiquem e melhorem suas habilidades em um ambiente virtual. Isso é especialmente útil para jogadores que buscam melhorar suas habilidades específicas, como dribles, chutes ou passes.\n",
            "\n",
            "Então, o que você gostaria de fazer hoje? Você é um jogador de futebol que busca melhorar suas habilidades? Ou talvez você seja um treinador que busca desenvolver estratégias de jogo eficazes? Ou simplesmente você quer conversar sobre futebol? Estou aqui para ajudar!\n",
            "Usuario: Quero melhorar o meu treino podes me ajudar com isso  ?\n",
            "Bot: Claro que sim! Eu estou aqui para ajudar. Vamos começar a melhorar seu treino de futebol!\n",
            "\n",
            "Para começar, é importante saber mais sobre você e seus objetivos. Pode me dizer:\n",
            "\n",
            "1. **Qual é o seu nível de experiência** em futebol? Você é um iniciante, um jogador intermediário ou um jogador avançado?\n",
            "2. **Qual é o seu objetivo** para o treino? Você busca melhorar sua condição física, sua técnica com a bola, sua tática de jogo ou algo mais?\n",
            "3. **Quais são as suas habilidades fortes e frágeis** no futebol? Você é bom em dribles, chutes, passes ou defesa?\n",
            "4. **Quanto tempo você tem disponível** para treinar por semana?\n",
            "\n",
            "Com essas informações, posso criar um plano de treino personalizado para você, que incluirá exercícios e atividades para melhorar suas habilidades e alcançar seus objetivos.\n",
            "\n",
            "Além disso, posso oferecer dicas e conselhos sobre como melhorar sua técnica, sua tática e sua condição física. Vamos trabalhar juntos para tornar você um jogador de futebol melhor!\n",
            "\n",
            "**Vamos começar!** Qual é a sua resposta para as perguntas acima?\n",
            "Usuario: 1\n",
            "Bot: Você é um **iniciante** em futebol. Isso é ótimo! O futebol é um esporte incrível e é nunca tarde para começar a aprender e melhorar.\n",
            "\n",
            "Agora, vamos falar sobre o seu **objetivo** para o treino. Você busca melhorar sua:\n",
            "\n",
            "1. **Condição física** (resistência, velocidade, agilidade)?\n",
            "2. **Técnica com a bola** (dribles, chutes, passes)?\n",
            "3. **Tática de jogo** (entender o jogo, tomar decisões, trabalhar em equipe)?\n",
            "4. **Outro** (por favor, especifique)?\n",
            "\n",
            "E quanto ao seu **tempo disponível** para treinar por semana? Você tem:\n",
            "\n",
            "1. **Menos de 2 horas** por semana?\n",
            "2. **2-4 horas** por semana?\n",
            "3. **Mais de 4 horas** por semana?\n",
            "\n",
            "Com essas informações, posso criar um plano de treino personalizado para você, que incluirá exercícios e atividades para melhorar suas habilidades e alcançar seus objetivos.\n",
            "\n",
            "**Lembre-se**: como iniciante, é importante começar com exercícios simples e gradualmente aumentar a dificuldade à medida que você se torna mais confortável com o jogo.\n",
            "\n",
            "Vamos continuar! Qual é a sua resposta para as perguntas acima?\n",
            "Usuario: 2\n",
            "Bot: Você busca melhorar sua **técnica com a bola**! Isso é fundamental para qualquer jogador de futebol. A técnica com a bola inclui habilidades como dribles, chutes, passes e controle da bola.\n",
            "\n",
            "Aqui estão algumas dicas e exercícios para você melhorar sua técnica com a bola:\n",
            "\n",
            "**Dribles**:\n",
            "\n",
            "1. **Drible em linha reta**: Driblar a bola em uma linha reta, sem parar ou mudar de direção.\n",
            "2. **Drible em zig-zag**: Driblar a bola em um padrão de zig-zag, mudando de direção frequentemente.\n",
            "3. **Drible com mudança de velocidade**: Driblar a bola com velocidade e, em seguida, reduzir a velocidade para controlar a bola.\n",
            "\n",
            "**Chutes**:\n",
            "\n",
            "1. **Chute com o pé**: Chutar a bola com o pé, usando a parte interna do pé.\n",
            "2. **Chute com a parte externa do pé**: Chutar a bola com a parte externa do pé, usando a parte externa do pé.\n",
            "3. **Chute com a cabeça**: Chutar a bola com a cabeça, usando a testa.\n",
            "\n",
            "**Passes**:\n",
            "\n",
            "1. **Passe curto**: Passar a bola para um companheiro de equipe que está perto.\n",
            "2. **Passe longo**: Passar a bola para um companheiro de equipe que está longe.\n",
            "3. **Passe com precisão**: Passar a bola com precisão, usando a parte interna do pé.\n",
            "\n",
            "**Controle da bola**:\n",
            "\n",
            "1. **Controle com o pé**: Controlar a bola com o pé, usando a parte interna do pé.\n",
            "2. **Controle com a parte externa do pé**: Controlar a bola com a parte externa do pé, usando a parte externa do pé.\n",
            "3. **Controle com a cabeça**: Controlar a bola com a cabeça, usando a testa.\n",
            "\n",
            "Agora, vamos criar um plano de treino personalizado para você. Você terá que treinar 2-3 vezes por semana, por cerca de 30-45 minutos por sessão.\n",
            "\n",
            "**Plano de treino**:\n",
            "\n",
            "* Segunda-feira: Dribles e chutes (30 minutos)\n",
            "* Quarta-feira: Passes e controle da bola (30 minutos)\n",
            "* Sexta-feira: Jogo de futebol (45 minutos)\n",
            "\n",
            "**Lembre-se**: é importante começar devagar e aumentar a dificuldade à medida que você se torna mais confortável com os exercícios.\n",
            "\n",
            "Vamos continuar! Você está pronto para começar a treinar?\n"
          ]
        }
      ]
    }
  ]
}